{
 "cells": [
  {
   "attachments": {},
   "cell_type": "markdown",
   "metadata": {},
   "source": [
    "### Project: Jellyfish\n",
    "\n",
    "Welcome to the Jellyfish Python module - your one-stop solution for automatic statistical testing! Designed to streamline your data analysis process, Jellyfish takes the hassle out of selecting the appropriate statistical test by intelligently identifying the best method based on your data's characteristics.\n",
    "\n",
    "Performing statistical tests can be a daunting task, especially when dealing with diverse datasets and various test assumptions. However, with Jellyfish, you can say goodbye to manual test selection and confidently make data-driven decisions. Our module automatically detects the nature of your data, checks for any deviations from assumptions, and seamlessly applies the most suitable statistical test.\n",
    "\n",
    "One of the key features of Jellyfish is its adaptive approach to hypothesis testing. For instance, when faced with groups that might not have equal variances, the module automatically opts for the Welch's t-test, ensuring accurate and reliable results without you having to worry about the underlying assumptions.\n",
    "\n",
    "Whether you're dealing with simple two-sample tests or complex ANOVA scenarios, Jellyfish has got you covered. Its versatility allows it to handle various test scenarios and present you with meaningful insights to support your research, experiments, or decision-making processes.\n",
    "\n",
    "By using Jellyfish, you not only save time and effort but also enhance the rigor of your statistical analyses. Our goal is to empower researchers, data analysts, and scientists to focus on their core work while knowing that they can rely on Jellyfish for robust statistical testing.\n",
    "\n",
    "In this documentation, we'll walk you through the easy-to-use functions and demonstrate how Jellyfish automatically adapts to different situations, providing you with a deeper understanding of your data with minimal coding.\n",
    "\n",
    "Let Jellyfish be your trusted companion in statistical analysis, and let's embark on a journey of effortless and accurate data exploration together! Happy testing!\n",
    "\n",
    "\n"
   ]
  },
  {
   "cell_type": "markdown",
   "metadata": {},
   "source": [
    "# Version 0.0.1\n",
    "**implemented**: \n",
    "- projectname and intro\n",
    "- chi-square independence / exact fisher testing according to cell sizes (for smaller samples, for big samples the exact test won't work)\n",
    "\n",
    "**To Do**: \n",
    "- chi-square testing with sample dataset from seaborn\n",
    "- chi-square correct overflow error integer division result too large for a float\n",
    "- reformat script according to PEP8 guidelines\n",
    "\n",
    "**Planned in next step**: \n",
    "- t-tests for independend samples (with levene-test and normality checks / outliers for welch-t-test and mann-whitney)\n",
    "- t-tests for dependend samples (with normality checks / outliers for wilcoxon)\n",
    "- ANOVA (with box-m and normality checks for welch-anova and kruskal-wallis)\n",
    "- linear regression (gauss-markov assumptions and robust testing / bootstrap)\n",
    "- correlation (with linearity check for spearman or log-transformations)"
   ]
  },
  {
   "cell_type": "markdown",
   "metadata": {},
   "source": [
    "### Sample Data"
   ]
  },
  {
   "cell_type": "code",
   "execution_count": 44,
   "metadata": {},
   "outputs": [
    {
     "data": {
      "text/html": [
       "<div>\n",
       "<style scoped>\n",
       "    .dataframe tbody tr th:only-of-type {\n",
       "        vertical-align: middle;\n",
       "    }\n",
       "\n",
       "    .dataframe tbody tr th {\n",
       "        vertical-align: top;\n",
       "    }\n",
       "\n",
       "    .dataframe thead th {\n",
       "        text-align: right;\n",
       "    }\n",
       "</style>\n",
       "<table border=\"1\" class=\"dataframe\">\n",
       "  <thead>\n",
       "    <tr style=\"text-align: right;\">\n",
       "      <th></th>\n",
       "      <th>species</th>\n",
       "      <th>island</th>\n",
       "      <th>bill_length_mm</th>\n",
       "      <th>bill_depth_mm</th>\n",
       "      <th>flipper_length_mm</th>\n",
       "      <th>body_mass_g</th>\n",
       "      <th>sex</th>\n",
       "    </tr>\n",
       "  </thead>\n",
       "  <tbody>\n",
       "    <tr>\n",
       "      <th>0</th>\n",
       "      <td>Adelie</td>\n",
       "      <td>Torgersen</td>\n",
       "      <td>39.1</td>\n",
       "      <td>18.7</td>\n",
       "      <td>181.0</td>\n",
       "      <td>3750.0</td>\n",
       "      <td>Male</td>\n",
       "    </tr>\n",
       "    <tr>\n",
       "      <th>1</th>\n",
       "      <td>Adelie</td>\n",
       "      <td>Torgersen</td>\n",
       "      <td>39.5</td>\n",
       "      <td>17.4</td>\n",
       "      <td>186.0</td>\n",
       "      <td>3800.0</td>\n",
       "      <td>Female</td>\n",
       "    </tr>\n",
       "    <tr>\n",
       "      <th>2</th>\n",
       "      <td>Adelie</td>\n",
       "      <td>Torgersen</td>\n",
       "      <td>40.3</td>\n",
       "      <td>18.0</td>\n",
       "      <td>195.0</td>\n",
       "      <td>3250.0</td>\n",
       "      <td>Female</td>\n",
       "    </tr>\n",
       "    <tr>\n",
       "      <th>3</th>\n",
       "      <td>Adelie</td>\n",
       "      <td>Torgersen</td>\n",
       "      <td>NaN</td>\n",
       "      <td>NaN</td>\n",
       "      <td>NaN</td>\n",
       "      <td>NaN</td>\n",
       "      <td>NaN</td>\n",
       "    </tr>\n",
       "    <tr>\n",
       "      <th>4</th>\n",
       "      <td>Adelie</td>\n",
       "      <td>Torgersen</td>\n",
       "      <td>36.7</td>\n",
       "      <td>19.3</td>\n",
       "      <td>193.0</td>\n",
       "      <td>3450.0</td>\n",
       "      <td>Female</td>\n",
       "    </tr>\n",
       "  </tbody>\n",
       "</table>\n",
       "</div>"
      ],
      "text/plain": [
       "  species     island  bill_length_mm  bill_depth_mm  flipper_length_mm  \\\n",
       "0  Adelie  Torgersen            39.1           18.7              181.0   \n",
       "1  Adelie  Torgersen            39.5           17.4              186.0   \n",
       "2  Adelie  Torgersen            40.3           18.0              195.0   \n",
       "3  Adelie  Torgersen             NaN            NaN                NaN   \n",
       "4  Adelie  Torgersen            36.7           19.3              193.0   \n",
       "\n",
       "   body_mass_g     sex  \n",
       "0       3750.0    Male  \n",
       "1       3800.0  Female  \n",
       "2       3250.0  Female  \n",
       "3          NaN     NaN  \n",
       "4       3450.0  Female  "
      ]
     },
     "execution_count": 44,
     "metadata": {},
     "output_type": "execute_result"
    }
   ],
   "source": [
    "#Sample Data\n",
    "import seaborn as sns\n",
    "import pandas as pd\n",
    "\n",
    "df = pd.read_excel(\"TestData.xlsx\")\n",
    "\n",
    "df2 = sns.load_dataset(\"penguins\")\n",
    "df2.head(5)"
   ]
  },
  {
   "cell_type": "markdown",
   "metadata": {},
   "source": [
    "### Documentation for perfect_chi\n",
    "\n",
    "This code defines a function perfect_chi that takes a pandas DataFrame table, and two strings column1 and column2, which represent the names of two columns in the DataFrame. The function then performs a chi-square test or a Fisher's exact test, depending on the size of the table and the values within it. The function returns a summary of the results of the test, along with a printed output.\n",
    "\n",
    "The first few lines of the function import the necessary packages, including pandas, numpy, scipy.stats, math, and warnings. The warnings package is used to suppress warning messages that might be produced during the calculations.\n",
    "\n",
    "The function then uses the pd.crosstab function to create a contingency table called beobachtet, which shows the number of occurrences of each unique combination of values in column1 and column2. The table also includes totals for the rows and columns.\n",
    "\n",
    "Next, the function creates a few variables that will be used later in the calculations. These include chi_square, which will hold the result of the chi-square test, alpha, which is the significance level for the test, and rows and columns, which contain the unique values in column1 and column2, respectively. The function also creates an empty DataFrame called erwartet to hold the expected values for the chi-square test.\n",
    "\n",
    "The function then uses a nested loop to calculate the observed and expected values for each combination of values in column1 and column2. The observed values are extracted from the beobachtet table, while the expected values are calculated using the formula E = (row total * column total) / grand total. The chi-square statistic is also calculated during this loop. The expected values are stored in the erwartet DataFrame.\n",
    "\n",
    "The function then drops the last column and last row of the erwartet DataFrame, since they contain the total values that were used to calculate the expected values.\n",
    "\n",
    "The function then checks the minimum expected value in the erwartet DataFrame. If this value is less than 5, the function uses Fisher's exact test instead of the chi-square test. If the minimum expected value is greater than or equal to 5, the function uses the chi-square test.\n",
    "\n",
    "If Fisher's exact test is used, the function defines an internal helper function called _dfs, which is used to recursively calculate the p-value for Fisher's exact test. This helper function takes a contingency table as input and returns the p-value for the test.\n",
    "\n",
    "Finally, the function uses the fisher_exact function to calculate the p-value for Fisher's exact test, and prints out the results of the test. If the chi-square test is used, the function calculates the p-value for the test and prints out the results of the test.\n",
    "\n",
    "In summary, the perfect_chi function is used to perform a chi-square test or a Fisher's exact test on a contingency table, and returns a summary of the results of the test, along with a printed output."
   ]
  },
  {
   "cell_type": "markdown",
   "metadata": {},
   "source": [
    "### Code for perfect_chi\n"
   ]
  },
  {
   "cell_type": "code",
   "execution_count": 39,
   "metadata": {},
   "outputs": [],
   "source": [
    "def perfect_chi(table, column1, column2):\n",
    "    '''Checks expected values and calculates chi-square-test or fishers exact test accordingly'''\n",
    "    #import necessary packages\n",
    "    import pandas as pd\n",
    "    import numpy as np\n",
    "    import scipy.stats as stats\n",
    "    import math\n",
    "    from copy import deepcopy\n",
    "    import warnings\n",
    "    warnings.filterwarnings(\"ignore\")\n",
    "    #pivot table\n",
    "    beobachtet = pd.crosstab(table[f'{column1}'],table[f'{column2}'], margins=True, margins_name=\"total\")\n",
    "    #groundwork\n",
    "    chi_square = 0\n",
    "    alpha = 0.05\n",
    "    rows = table[f'{column1}'].dropna().unique()\n",
    "    columns = table[f'{column2}'].dropna().unique()\n",
    "    erwartet = pd.DataFrame(0, index=beobachtet.index, columns=beobachtet.columns)\n",
    "    min_cell = beobachtet.min().min()\n",
    "    #calculate observed and expected values and create tables for expected\n",
    "    for i in columns:\n",
    "        for j in rows:\n",
    "            O = beobachtet[i][j]\n",
    "            E = beobachtet[i]['total'] * beobachtet['total'][j] / beobachtet['total']['total']\n",
    "            erwartet[i][j] = E\n",
    "            chi_square += (O-E)**2/E\n",
    "\n",
    "    erwartet = erwartet.drop(erwartet.columns[-1],axis=1)\n",
    "    erwartet = erwartet.drop(erwartet.index[-1])\n",
    "    #check for min erwartet\n",
    "    print(\"the minimum expected value is:\",np.round(erwartet.min().min(),3),\". The minimum absolut value is: \",min_cell)\n",
    "    if erwartet.min().min() < 5 or min_cell == 0: \n",
    "        print(\"therefore use fishers exact test\")\n",
    "    else: \n",
    "        print(\"therefore use chi square test\")\n",
    "    minerwartet=np.round(erwartet.min().min(),3)\n",
    "    #check table size, since only up to 5x5 is feasible with exact\n",
    "    if minerwartet<5:\n",
    "        eshape = [erwartet.shape[0], erwartet.shape[1]]\n",
    "        max(eshape)\n",
    "        print(\"the maximum length of the shape of the table is\",max(eshape))\n",
    "        if max(eshape) > 5:\n",
    "            print(\"please consider collapsing table, only a max of 5x5 should be calculated\")\n",
    "            print(\"the larger the table, the longer it takes to calculate the fishers exact test\")\n",
    "        else:\n",
    "            print(\"shape is small enough for quick usage of fishers exact test\")\n",
    "    #calculate test statistics\n",
    "    #chi-square\n",
    "    if minerwartet>=5 and min_cell>0:\n",
    "        print(\"p-value calculation of chi-square starting\")\n",
    "        p_value = 1 - stats.chi2.cdf(chi_square, (len(rows)-1)*(len(columns)-1))\n",
    "        conclusion = \"failed to reject the null hypothesis.\"\n",
    "        if p_value <= alpha:\n",
    "            conclusion = \"null hypothesis is rejected.\"\n",
    "                \n",
    "        print(\"chi square is:\", round(chi_square,3), \" and p value is:\", round(p_value,3))\n",
    "        print(conclusion)\n",
    "        print(\"the cross table looks like this:\")\n",
    "        print(beobachtet)\n",
    "    #fishers exact test\n",
    "    else:\n",
    "        def _dfs(mat, pos, r_sum, c_sum, p_0, p):\n",
    "            (xx, yy) = pos\n",
    "            r, c = len(r_sum), len(c_sum)\n",
    "            mat_new = deepcopy(mat)\n",
    "\n",
    "            if xx == -1 and yy == -1:\n",
    "                for i in range(r-1):\n",
    "                    mat_new[i][c-1] = r_sum[i] - sum(mat_new[i][:c-1])\n",
    "                for j in range(c-1):\n",
    "                    mat_new[r-1][j] = c_sum[j] - sum([mat_new[i][j] for i in range(r-1)])\n",
    "                temp = r_sum[r-1] - sum(mat_new[r-1][:c-1])\n",
    "                if temp < 0:\n",
    "                    return\n",
    "                mat_new[r-1][c-1] = temp\n",
    "\n",
    "                p_1 = math.prod([math.factorial(x) for x in r_sum+c_sum])\n",
    "                n = sum(r_sum)\n",
    "                p_1 /= math.factorial(n)\n",
    "\n",
    "                for row in mat_new:\n",
    "                    for x in row:\n",
    "                        p_1 /= math.factorial(x)\n",
    "                if p_1 <= p_0 + 0.00000001:\n",
    "                    p[0] += p_1\n",
    "            else:\n",
    "                max_1 = r_sum[xx] - sum(mat_new[xx])\n",
    "                max_2 = c_sum[yy] - sum([mat_new[i][yy] for i in range(r)])\n",
    "                for k in range(min(max_1,max_2)+1):\n",
    "                    mat_new[xx][yy] = k\n",
    "                    if xx == r-2 and yy == c-2:\n",
    "                        pos_new = (-1, -1)\n",
    "                    elif xx == r-2:\n",
    "                        pos_new = (0, yy+1)\n",
    "                    else:\n",
    "                        pos_new = (xx+1, yy)\n",
    "                    _dfs(mat_new, pos_new, r_sum, c_sum, p_0, p)\n",
    "\n",
    "        def fisher_exact(table):\n",
    "            row_sum = [sum(row) for row in table]\n",
    "            col_sum = [sum([table[i][j] for i in range(len(table))]) for j in range(len(table[0]))]\n",
    "            mat = [[0] * len(col_sum) for _ in range(len(row_sum))]\n",
    "            pos = (0, 0)\n",
    "            p_0 = math.prod([math.factorial(x) for x in row_sum+col_sum])\n",
    "            n = sum(row_sum)\n",
    "            p_0 /= math.factorial(n)\n",
    "            for row in table:\n",
    "                for x in row:\n",
    "                    p_0 /= math.factorial(x)\n",
    "            p = [0]\n",
    "            _dfs(mat, pos, row_sum, col_sum, p_0, p)\n",
    "            return p[0]\n",
    "\n",
    "        beobachtet = beobachtet.drop(beobachtet.columns[-1],axis=1)\n",
    "        beobachtet = beobachtet.drop(beobachtet.index[-1])\n",
    "        print(\"p-value calculation of fishers exact test starting\")\n",
    "        print(\"the p-value of fishers exact test is:\",round(fisher_exact(beobachtet.values.tolist()),3))\n",
    "        print(\"the cross table looks like this:\")\n",
    "        print(beobachtet)"
   ]
  },
  {
   "attachments": {},
   "cell_type": "markdown",
   "metadata": {},
   "source": [
    "### Testing for perfect_chi()"
   ]
  },
  {
   "cell_type": "code",
   "execution_count": 47,
   "metadata": {},
   "outputs": [
    {
     "name": "stdout",
     "output_type": "stream",
     "text": [
      "the minimum expected value is: 46.148 . The minimum absolut value is:  35\n",
      "therefore use chi square test\n",
      "p-value calculation of chi-square starting\n",
      "chi square is: 7.802  and p value is: 0.253\n",
      "failed to reject the null hypothesis.\n",
      "the cross table looks like this:\n",
      "V2       1    2    3    4  total\n",
      "V1                              \n",
      "1       59   63   61   53    236\n",
      "2       61   35   49   53    198\n",
      "3       57   54   48   42    201\n",
      "total  177  152  158  148    635\n"
     ]
    }
   ],
   "source": [
    "perfect_chi(df, \"V1\", \"V2\")"
   ]
  },
  {
   "cell_type": "code",
   "execution_count": 48,
   "metadata": {},
   "outputs": [
    {
     "name": "stdout",
     "output_type": "stream",
     "text": [
      "the minimum expected value is: 0.333 . The minimum absolut value is:  0\n",
      "therefore use fishers exact test\n",
      "the maximum length of the shape of the table is 3\n",
      "shape is small enough for quick usage of fishers exact test\n",
      "p-value calculation of fishers exact test starting\n",
      "the p-value of fishers exact test is: 0.679\n",
      "the cross table looks like this:\n",
      "V3  1.0  2.0  3.0\n",
      "V1               \n",
      "1     0    0    1\n",
      "2     1    0    1\n",
      "3     2    3    1\n"
     ]
    }
   ],
   "source": [
    "perfect_chi(df, \"V1\", \"V3\")"
   ]
  },
  {
   "cell_type": "code",
   "execution_count": 45,
   "metadata": {},
   "outputs": [
    {
     "name": "stdout",
     "output_type": "stream",
     "text": [
      "the minimum expected value is: 10.279 . The minimum absolut value is:  0\n",
      "therefore use fishers exact test\n",
      "p-value calculation of fishers exact test starting\n"
     ]
    },
    {
     "ename": "OverflowError",
     "evalue": "integer division result too large for a float",
     "output_type": "error",
     "traceback": [
      "\u001b[1;31m---------------------------------------------------------------------------\u001b[0m",
      "\u001b[1;31mOverflowError\u001b[0m                             Traceback (most recent call last)",
      "Cell \u001b[1;32mIn[45], line 1\u001b[0m\n\u001b[1;32m----> 1\u001b[0m perfect_chi(df2, \u001b[39m\"\u001b[39;49m\u001b[39mspecies\u001b[39;49m\u001b[39m\"\u001b[39;49m, \u001b[39m\"\u001b[39;49m\u001b[39misland\u001b[39;49m\u001b[39m\"\u001b[39;49m)\n",
      "Cell \u001b[1;32mIn[39], line 117\u001b[0m, in \u001b[0;36mperfect_chi\u001b[1;34m(table, column1, column2)\u001b[0m\n\u001b[0;32m    115\u001b[0m beobachtet \u001b[39m=\u001b[39m beobachtet\u001b[39m.\u001b[39mdrop(beobachtet\u001b[39m.\u001b[39mindex[\u001b[39m-\u001b[39m\u001b[39m1\u001b[39m])\n\u001b[0;32m    116\u001b[0m \u001b[39mprint\u001b[39m(\u001b[39m\"\u001b[39m\u001b[39mp-value calculation of fishers exact test starting\u001b[39m\u001b[39m\"\u001b[39m)\n\u001b[1;32m--> 117\u001b[0m \u001b[39mprint\u001b[39m(\u001b[39m\"\u001b[39m\u001b[39mthe p-value of fishers exact test is:\u001b[39m\u001b[39m\"\u001b[39m,\u001b[39mround\u001b[39m(fisher_exact(beobachtet\u001b[39m.\u001b[39;49mvalues\u001b[39m.\u001b[39;49mtolist()),\u001b[39m3\u001b[39m))\n\u001b[0;32m    118\u001b[0m \u001b[39mprint\u001b[39m(\u001b[39m\"\u001b[39m\u001b[39mthe cross table looks like this:\u001b[39m\u001b[39m\"\u001b[39m)\n\u001b[0;32m    119\u001b[0m \u001b[39mprint\u001b[39m(beobachtet)\n",
      "Cell \u001b[1;32mIn[39], line 106\u001b[0m, in \u001b[0;36mperfect_chi.<locals>.fisher_exact\u001b[1;34m(table)\u001b[0m\n\u001b[0;32m    104\u001b[0m p_0 \u001b[39m=\u001b[39m math\u001b[39m.\u001b[39mprod([math\u001b[39m.\u001b[39mfactorial(x) \u001b[39mfor\u001b[39;00m x \u001b[39min\u001b[39;00m row_sum\u001b[39m+\u001b[39mcol_sum])\n\u001b[0;32m    105\u001b[0m n \u001b[39m=\u001b[39m \u001b[39msum\u001b[39m(row_sum)\n\u001b[1;32m--> 106\u001b[0m p_0 \u001b[39m/\u001b[39;49m\u001b[39m=\u001b[39;49m math\u001b[39m.\u001b[39;49mfactorial(n)\n\u001b[0;32m    107\u001b[0m \u001b[39mfor\u001b[39;00m row \u001b[39min\u001b[39;00m table:\n\u001b[0;32m    108\u001b[0m     \u001b[39mfor\u001b[39;00m x \u001b[39min\u001b[39;00m row:\n",
      "\u001b[1;31mOverflowError\u001b[0m: integer division result too large for a float"
     ]
    }
   ],
   "source": [
    "perfect_chi(df2, \"species\", \"island\")"
   ]
  },
  {
   "cell_type": "code",
   "execution_count": 46,
   "metadata": {},
   "outputs": [
    {
     "name": "stdout",
     "output_type": "stream",
     "text": [
      "the minimum expected value is: 23.288 . The minimum absolut value is:  23\n",
      "therefore use chi square test\n",
      "p-value calculation of chi-square starting\n",
      "chi square is: 0.058  and p value is: 0.972\n",
      "failed to reject the null hypothesis.\n",
      "the cross table looks like this:\n",
      "island  Biscoe  Dream  Torgersen  total\n",
      "sex                                    \n",
      "Female      80     61         24    165\n",
      "Male        83     62         23    168\n",
      "total      163    123         47    333\n"
     ]
    }
   ],
   "source": [
    "perfect_chi(df2, \"sex\", \"island\")"
   ]
  },
  {
   "cell_type": "markdown",
   "metadata": {},
   "source": [
    "# t-test for independend samples"
   ]
  },
  {
   "cell_type": "markdown",
   "metadata": {},
   "source": [
    "### Sample dataset for perfect_t_ind"
   ]
  },
  {
   "cell_type": "code",
   "execution_count": 79,
   "metadata": {},
   "outputs": [
    {
     "data": {
      "text/html": [
       "<div>\n",
       "<style scoped>\n",
       "    .dataframe tbody tr th:only-of-type {\n",
       "        vertical-align: middle;\n",
       "    }\n",
       "\n",
       "    .dataframe tbody tr th {\n",
       "        vertical-align: top;\n",
       "    }\n",
       "\n",
       "    .dataframe thead th {\n",
       "        text-align: right;\n",
       "    }\n",
       "</style>\n",
       "<table border=\"1\" class=\"dataframe\">\n",
       "  <thead>\n",
       "    <tr style=\"text-align: right;\">\n",
       "      <th></th>\n",
       "      <th>species</th>\n",
       "      <th>island</th>\n",
       "      <th>bill_length_mm</th>\n",
       "      <th>bill_depth_mm</th>\n",
       "      <th>flipper_length_mm</th>\n",
       "      <th>body_mass_g</th>\n",
       "      <th>sex</th>\n",
       "    </tr>\n",
       "  </thead>\n",
       "  <tbody>\n",
       "    <tr>\n",
       "      <th>0</th>\n",
       "      <td>Adelie</td>\n",
       "      <td>Torgersen</td>\n",
       "      <td>39.1</td>\n",
       "      <td>18.7</td>\n",
       "      <td>181.0</td>\n",
       "      <td>3750.0</td>\n",
       "      <td>Male</td>\n",
       "    </tr>\n",
       "    <tr>\n",
       "      <th>1</th>\n",
       "      <td>Adelie</td>\n",
       "      <td>Torgersen</td>\n",
       "      <td>39.5</td>\n",
       "      <td>17.4</td>\n",
       "      <td>186.0</td>\n",
       "      <td>3800.0</td>\n",
       "      <td>Female</td>\n",
       "    </tr>\n",
       "    <tr>\n",
       "      <th>2</th>\n",
       "      <td>Adelie</td>\n",
       "      <td>Torgersen</td>\n",
       "      <td>40.3</td>\n",
       "      <td>18.0</td>\n",
       "      <td>195.0</td>\n",
       "      <td>3250.0</td>\n",
       "      <td>Female</td>\n",
       "    </tr>\n",
       "    <tr>\n",
       "      <th>3</th>\n",
       "      <td>Adelie</td>\n",
       "      <td>Torgersen</td>\n",
       "      <td>NaN</td>\n",
       "      <td>NaN</td>\n",
       "      <td>NaN</td>\n",
       "      <td>NaN</td>\n",
       "      <td>NaN</td>\n",
       "    </tr>\n",
       "    <tr>\n",
       "      <th>4</th>\n",
       "      <td>Adelie</td>\n",
       "      <td>Torgersen</td>\n",
       "      <td>36.7</td>\n",
       "      <td>19.3</td>\n",
       "      <td>193.0</td>\n",
       "      <td>3450.0</td>\n",
       "      <td>Female</td>\n",
       "    </tr>\n",
       "  </tbody>\n",
       "</table>\n",
       "</div>"
      ],
      "text/plain": [
       "  species     island  bill_length_mm  bill_depth_mm  flipper_length_mm  \\\n",
       "0  Adelie  Torgersen            39.1           18.7              181.0   \n",
       "1  Adelie  Torgersen            39.5           17.4              186.0   \n",
       "2  Adelie  Torgersen            40.3           18.0              195.0   \n",
       "3  Adelie  Torgersen             NaN            NaN                NaN   \n",
       "4  Adelie  Torgersen            36.7           19.3              193.0   \n",
       "\n",
       "   body_mass_g     sex  \n",
       "0       3750.0    Male  \n",
       "1       3800.0  Female  \n",
       "2       3250.0  Female  \n",
       "3          NaN     NaN  \n",
       "4       3450.0  Female  "
      ]
     },
     "execution_count": 79,
     "metadata": {},
     "output_type": "execute_result"
    }
   ],
   "source": [
    "#Sample Data\n",
    "import seaborn as sns\n",
    "df = sns.load_dataset(\"penguins\")\n",
    "df.head(5)"
   ]
  },
  {
   "cell_type": "markdown",
   "metadata": {},
   "source": [
    "### Documentation for perfect_t_ind\n"
   ]
  },
  {
   "cell_type": "markdown",
   "metadata": {},
   "source": [
    "yadayadayada"
   ]
  },
  {
   "cell_type": "markdown",
   "metadata": {},
   "source": [
    "### Code for perfect_t_ind\n"
   ]
  },
  {
   "cell_type": "code",
   "execution_count": 81,
   "metadata": {},
   "outputs": [],
   "source": [
    "# def perfect_t_ind(table, mean_column, group_column):\n",
    "#     df.dropna(subset=[f\"{group_column}\"], inplace=True)\n",
    "#     if len(table[f\"{group_column}\"].unique()) != 2: \n",
    "#         print(\"Please reconsider test-decision. The t-test for independend samples can only be calculated for 2 groups\")\n",
    "#     else:\n",
    "#         print(\"The two compared groups are: \", table[f\"{group_column}\"].unique()[0] ,\"and: \", table[f\"{group_column}\"].unique()[1])\n",
    "\n"
   ]
  },
  {
   "cell_type": "markdown",
   "metadata": {},
   "source": [
    "Vorgehen: \n",
    "- Anzahl der Gruppen prüfen\n",
    "- Deskriptive Kennzahlen der Gruppen berechnen und ausgeben\n",
    "- Voraussetzungstest levene durchführen\n",
    "- Voraussetzungstest shapiro durchführen\n",
    "- Passenden Test berechnen"
   ]
  }
 ],
 "metadata": {
  "kernelspec": {
   "display_name": "Python 3",
   "language": "python",
   "name": "python3"
  },
  "language_info": {
   "codemirror_mode": {
    "name": "ipython",
    "version": 3
   },
   "file_extension": ".py",
   "mimetype": "text/x-python",
   "name": "python",
   "nbconvert_exporter": "python",
   "pygments_lexer": "ipython3",
   "version": "3.11.1"
  },
  "orig_nbformat": 4
 },
 "nbformat": 4,
 "nbformat_minor": 2
}
